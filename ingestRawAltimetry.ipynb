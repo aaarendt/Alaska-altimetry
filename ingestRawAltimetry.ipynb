{
 "cells": [
  {
   "cell_type": "markdown",
   "metadata": {},
   "source": [
    "### This purpose of this code is to read raw altimetry data from a server in Alaska and then ingest it into the postgres database\n",
    "\n",
    "#### we'll use the Python library http://pysftp.readthedocs.org/en/release_0.2.8/\n",
    "\n",
    "#### A. Arendt, S. Nimmagadda, C. Larsen\n",
    "\n",
    "##### rev. 2015 11 17: initial creation\n",
    "##### 2015 11 29: stepping through ReadLambFile from Evan's UpdateDb.py; removing str/dict distinction; trying in Pandas instead"
   ]
  },
  {
   "cell_type": "markdown",
   "metadata": {},
   "source": [
    "establish the secure FTP connection:"
   ]
  },
  {
   "cell_type": "code",
   "execution_count": 14,
   "metadata": {
    "collapsed": false
   },
   "outputs": [],
   "source": [
    "import pysftp\n",
    "import UpdateDb as udb\n",
    "# I've set up some sample data here. We'll replace this connection with the real one after developing the code\n",
    "sftp = pysftp.Connection('40.118.160.139', username='sai', password='altimetry')"
   ]
  },
  {
   "cell_type": "markdown",
   "metadata": {},
   "source": [
    "#remove tryChange\n",
    "The data are located in a directory 'altimetry'. In 'atimetry', there is another folder for each glacier. So we can get the list of glaciers this way:\n"
   ]
  },
  {
   "cell_type": "code",
   "execution_count": 15,
   "metadata": {
    "collapsed": false
   },
   "outputs": [
    {
     "data": {
      "text/plain": [
       "['Kahiltna', 'Taku']"
      ]
     },
     "execution_count": 15,
     "metadata": {},
     "output_type": "execute_result"
    }
   ],
   "source": [
    "glacierList = sftp.listdir('altimetry')\n",
    "glacierList"
   ]
  },
  {
   "cell_type": "code",
   "execution_count": 16,
   "metadata": {
    "collapsed": false
   },
   "outputs": [
    {
     "name": "stdout",
     "output_type": "stream",
     "text": [
      "Kahiltna.1994.2008.output.txt\n",
      "Kahiltna.1994.2010.output.txt\n",
      "Kahiltna.1994.2013.output.txt\n",
      "Kahiltna.2008.2010.output.txt\n",
      "Kahiltna.2008.2013.output.txt\n",
      "Kahiltna.2010.2013.output.txt\n",
      "Taku.1993.2014.output.txt\n",
      "Taku.1993F.1999F.output.txt\n",
      "Taku.1993F.2007F.output.txt\n",
      "Taku.1993F.2011F.output.txt\n",
      "Taku.1993F.2012F.output.txt\n",
      "Taku.1999.2014.output.txt\n",
      "Taku.1999F.2000S.output.txt\n",
      "Taku.1999F.2007F.output.txt\n",
      "Taku.1999F.2011F.output.txt\n",
      "Taku.1999F.2012F.output.txt\n",
      "Taku.1999S.1999F.output.txt\n",
      "Taku.1999S.2000S.output.txt\n",
      "Taku.1999S.2001S.output.txt\n",
      "Taku.2000.2014.output.txt\n",
      "Taku.2000S.2001S.output.txt\n",
      "Taku.2001.2014.output.txt\n",
      "Taku.2001S.2001F.output.txt\n",
      "Taku.2001S.2007F.output.txt\n",
      "Taku.2007.2014.output.txt\n",
      "Taku.2007F.2011F.output.txt\n",
      "Taku.2007F.2012F.output.txt\n",
      "Taku.2011.2014.output.txt\n",
      "Taku.2011F.2012F.output.txt\n",
      "Taku.2012.2014.output.txt\n"
     ]
    }
   ],
   "source": [
    "with sftp.cd('altimetry'):\n",
    "     for glacierName in glacierList:\n",
    "        with (sftp.cd(glacierName)):\n",
    "            for fileName in sftp.listdir():\n",
    "                #verify on interpreter the file about to be downloaded\n",
    "                if(fileName.endswith(\".output.txt\")):\n",
    "                    print(fileName)\n",
    "                    sftp.get(fileName)\n",
    "                    #lambFile = udb.ReadLambFile(fileName)\n",
    "\n",
    "    # next, we will use the function \"ReadLambFile\" from the \"UpdateDb.py\" code to read the content of each file. \n",
    "        # see https://github.com/ice2ocean/AlaskaAltimetry/blob/master/Altimetry/UpdateDb.py\n",
    "        # for now, just look at that function to see how it treats the data in the .txt files\n",
    "         "
   ]
  },
  {
   "cell_type": "markdown",
   "metadata": {},
   "source": [
    "AA: 20151119: I'm copying the ReadLambFile code here for testing. Then we can copy these back to UpdateDb.py later\n",
    "\n",
    "NOTES: \n",
    "\n",
    "* providing choice to read into strings or dictionaries is not needed\n",
    "* changing types from float to int is not needed I think. We can control this on ingest into Postgres anyhow\n",
    "* look through this, but don't waste a lot of time on it: I think we can do much better just using Pandas (see below)"
   ]
  },
  {
   "cell_type": "code",
   "execution_count": 3,
   "metadata": {
    "collapsed": true
   },
   "outputs": [],
   "source": [
    "# import the libraries\n",
    "import psycopg2\n",
    "import re\n",
    "import numpy as N\n",
    "from time import mktime\n",
    "from datetime import datetime\n",
    "from time import mktime\n",
    "import time\n",
    "import os\n",
    "import glob\n",
    "import datetime as dtm\n",
    "import sys"
   ]
  },
  {
   "cell_type": "code",
   "execution_count": 18,
   "metadata": {
    "collapsed": false
   },
   "outputs": [
    {
     "name": "stdout",
     "output_type": "stream",
     "text": [
      "2012.0 243.0 2014.0 233.0 -0.539555 0.078732 0.068873 -0.704715 0.102832 0.089955\n",
      "[    0.    30.    60.    90.   120.   150.   180.   210.   240.   270.\n",
      "   300.   330.   360.   390.   420.   450.   480.   510.   540.   570.\n",
      "   600.   630.   660.   690.   720.   750.   780.   810.   840.   870.\n",
      "   900.   930.   960.   990.  1020.  1050.  1080.  1110.  1140.  1170.\n",
      "  1200.  1230.  1260.  1290.  1320.  1350.  1380.  1410.  1440.  1470.\n",
      "  1500.  1530.  1560.  1590.  1620.  1650.  1680.  1710.  1740.  1770.\n",
      "  1800.  1830.]\n"
     ]
    }
   ],
   "source": [
    "# for now: hard code the name of the file that would be passed to this function\n",
    "\n",
    "lambfile = 'Taku.2012.2014.output.txt'\n",
    "\n",
    "f = open(lambfile)\n",
    "\n",
    "f.readline() #header trashed\n",
    "\n",
    "#reading glacierwide data on line 1\n",
    "(year1,jday1,year2,jday2,volmodel,vol25diff,vol75diff,balmodel,bal25diff,bal75diff) = [float(field) for field in f.readline().split()]\n",
    "\n",
    "# check these were read in ok:\n",
    "\n",
    "print(year1,jday1,year2,jday2,volmodel,vol25diff,vol75diff,balmodel,bal25diff,bal75diff)\n",
    "\n",
    "#converting to datetime objects\n",
    "date1 = dtm.datetime(int(year1), 1, 1) + dtm.timedelta(int(jday1) - 1)\n",
    "date2 = dtm.datetime(int(year2), 1, 1) + dtm.timedelta(int(jday2) - 1)\n",
    "\n",
    "#vertically binned data - READING\n",
    "e=N.array([])\n",
    "dz=N.array([])\n",
    "dz25=N.array([])\n",
    "dz75=N.array([])\n",
    "aad=N.array([])\n",
    "masschange=N.array([])\n",
    "massbal=N.array([])\n",
    "numdata=N.array([])\n",
    "\n",
    "f.readline()  #second header trashed\n",
    "\n",
    "for line in f:\n",
    "    (e_add,dz_add,dz25_add,dz75_add,aad_add,masschange_add,massbal_add,numdata_add) = [float(field) for field in line.split()]\n",
    "    e = N.append(e,e_add)\n",
    "    dz = N.append(dz,dz_add)\n",
    "    dz25 = N.append(dz25,dz25_add)\n",
    "    dz75 = N.append(dz75,dz75_add)\n",
    "    aad = N.append(aad,aad_add)\n",
    "    masschange = N.append(masschange,masschange_add)\n",
    "    massbal = N.append(massbal,massbal_add)\n",
    "    numdata = N.append(numdata,numdata_add)\n",
    "\n",
    "# check one of these\n",
    "print(e)"
   ]
  },
  {
   "cell_type": "code",
   "execution_count": 19,
   "metadata": {
    "collapsed": false
   },
   "outputs": [
    {
     "name": "stdout",
     "output_type": "stream",
     "text": [
      "[   15.    45.    75.   105.   135.   165.   195.   225.   255.   285.\n",
      "   315.   345.   375.   405.   435.   465.   495.   525.   555.   585.\n",
      "   615.   645.   675.   705.   735.   765.   795.   825.   855.   885.\n",
      "   915.   945.   975.  1005.  1035.  1065.  1095.  1125.  1155.  1185.\n",
      "  1215.  1245.  1275.  1305.  1335.  1365.  1395.  1425.  1455.  1485.\n",
      "  1515.  1545.  1575.  1605.  1635.  1665.  1695.  1725.  1755.  1785.\n",
      "  1815.  1845.]\n",
      "<class 'numpy.ndarray'>\n"
     ]
    }
   ],
   "source": [
    "#e = e.astype(int)\n",
    "e += (e[2]-e[1])/2    # DEALING WITH THE FACT THAT LAMB BINNING LABLES THE BOTTOM OF THE BIN AND WE WANT THE CENTER\n",
    "print(e)\n",
    "print(type(e))"
   ]
  },
  {
   "cell_type": "code",
   "execution_count": 20,
   "metadata": {
    "collapsed": false
   },
   "outputs": [
    {
     "name": "stdout",
     "output_type": "stream",
     "text": [
      "2012-08-30 00:00:00\n"
     ]
    }
   ],
   "source": [
    "# numdata = numdata.astype(int)   \n",
    "\n",
    "#GETTING GLACIER NAME FROM FILENAME\n",
    "name = re.findall('(^[^\\.]+)\\.',os.path.basename(lambfile))[0]\n",
    "\n",
    "dic={} \n",
    "dic['date1'] = date1\n",
    "dic['date2'] = date2\n",
    "dic['volmodel'] = volmodel\n",
    "dic['vol25diff'] = vol25diff\n",
    "dic['vol75diff'] = vol75diff\n",
    "dic['balmodel'] = balmodel\n",
    "dic['bal25diff'] = bal25diff\n",
    "dic['bal75diff'] = bal75diff\n",
    "dic['e'] = e\n",
    "dic['dz'] = dz\n",
    "dic['dz25'] = dz25\n",
    "dic['dz75'] = dz75\n",
    "dic['aad'] = aad\n",
    "dic['masschange'] = masschange\n",
    "dic['massbal'] = massbal\n",
    "dic['numdata'] = numdata\n",
    "dic['name'] = name \n",
    "# return dic\n",
    "\n",
    "# we can query any element of the dictionary to check it:\n",
    "print(dic['date1'])"
   ]
  },
  {
   "cell_type": "markdown",
   "metadata": {},
   "source": [
    "### Can we do this more simply using Pandas?\n",
    "\n",
    "Trying the following:"
   ]
  },
  {
   "cell_type": "code",
   "execution_count": 8,
   "metadata": {
    "collapsed": false
   },
   "outputs": [],
   "source": [
    "# so we can display plots in the notebook\n",
    "\n",
    "%matplotlib inline \n",
    "import pandas as pd\n",
    "\n",
    "lambfile = 'Taku.2012.2014.output.txt'\n",
    "\n",
    "glacierInfo = pd.read_csv(lambfile,sep='\\t', header=None, names = ['Year1','JDay1','Year2','JDay2',\n",
    "                                                          'VolModel','Vol25Diff','Vol75Diff',\n",
    "                                                          'BalModel', 'Bal25Diff', 'Bal75Diff'], skiprows=1, nrows=1)\n",
    "\n",
    "glacierData = pd.read_csv(lambfile,sep='\\t', header=None, names = ['E','DZ','DZ25','DZ75',\n",
    "                                                          'AAD','MassChange','MassBal','NumData'], skiprows=3)"
   ]
  },
  {
   "cell_type": "code",
   "execution_count": 9,
   "metadata": {
    "collapsed": false
   },
   "outputs": [
    {
     "data": {
      "text/plain": [
       "<matplotlib.axes._subplots.AxesSubplot at 0x7f138d0dca90>"
      ]
     },
     "execution_count": 9,
     "metadata": {},
     "output_type": "execute_result"
    },
    {
     "data": {
      "image/png": "[encoded data removed]",
      "text/plain": [
       "<matplotlib.figure.Figure at 0x7f13c11551d0>"
      ]
     },
     "metadata": {},
     "output_type": "display_data"
    }
   ],
   "source": [
    "# now we can take advantage of the simple plotting functions in Pandas\n",
    "glacierData['MassBal'].plot()"
   ]
  },
  {
   "cell_type": "markdown",
   "metadata": {},
   "source": [
    "## Next steps:\n",
    "\n",
    "* use Pandas to read the second line only, for the glacier wide info\n",
    "* try passing a single row from the Pandas dataframe (a data series) to an array for the elevation dependent components\n",
    "* look into Panda's ability to upload directly to SQL. With that we can replace Evan's \"import_lamb_file_to_db\" I think"
   ]
  },
  {
   "cell_type": "code",
   "execution_count": 12,
   "metadata": {
    "collapsed": false
   },
   "outputs": [
    {
     "name": "stdout",
     "output_type": "stream",
     "text": [
      "[  2.70000000e+02   8.22060000e-01  -6.77000000e-02   1.48079000e+00\n",
      "   2.04930000e+06   1.51600000e-03   7.39858000e-01   2.22300000e+03]\n"
     ]
    }
   ],
   "source": [
    "#pass single row from df to array to look at elevation dependent components\n",
    "#choose elevation of the bottom of the bin to determine which row to convert to an array\n",
    "elevationAtBottom = 270;\n",
    "matrix = (df.as_matrix())[elevationAtBottom/30]\n",
    "print(matrix)"
   ]
  },
  {
   "cell_type": "code",
   "execution_count": 16,
   "metadata": {
    "collapsed": false
   },
   "outputs": [
    {
     "data": {
      "text/plain": [
       "array([   0,   30,   60,   90,  120,  150,  180,  210,  240,  270,  300,\n",
       "        330,  360,  390,  420,  450,  480,  510,  540,  570,  600,  630,\n",
       "        660,  690,  720,  750,  780,  810,  840,  870,  900,  930,  960,\n",
       "        990, 1020, 1050, 1080, 1110, 1140, 1170, 1200, 1230, 1260, 1290,\n",
       "       1320, 1350, 1380, 1410, 1440, 1470, 1500, 1530, 1560, 1590, 1620,\n",
       "       1650, 1680, 1710, 1740, 1770, 1800, 1830])"
      ]
     },
     "execution_count": 16,
     "metadata": {},
     "output_type": "execute_result"
    }
   ],
   "source": [
    "glacierData['E'].as_matrix()"
   ]
  }
 ],
 "metadata": {
  "kernelspec": {
   "display_name": "Python 2",
   "language": "python",
   "name": "python2"
  },
  "language_info": {
   "codemirror_mode": {
    "name": "ipython",
    "version": 2
   },
   "file_extension": ".py",
   "mimetype": "text/x-python",
   "name": "python",
   "nbconvert_exporter": "python",
   "pygments_lexer": "ipython2",
   "version": "2.7.10"
  }
 },
 "nbformat": 4,
 "nbformat_minor": 0
}
