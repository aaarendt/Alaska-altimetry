{
 "cells": [
  {
   "cell_type": "markdown",
   "metadata": {},
   "source": [
    "### This purpose of this code is to read raw altimetry data from a server in Alaska and then ingest it into the postgres database\n",
    "\n",
    "#### we'll use the Python library http://pysftp.readthedocs.org/en/release_0.2.8/\n",
    "\n",
    "#### A. Arendt, S. Nimmagadda, C. Larsen\n",
    "\n",
    "##### rev. 2015 11 17"
   ]
  },
  {
   "cell_type": "markdown",
   "metadata": {},
   "source": [
    "establish the secure FTP connection:"
   ]
  },
  {
   "cell_type": "code",
   "execution_count": 3,
   "metadata": {
    "collapsed": false
   },
   "outputs": [],
   "source": [
    "import pysftp\n",
    "import UpdateDb as udb\n",
    "# I've set up some sample data here. We'll replace this connection with the real one after developing the code\n",
    "sftp = pysftp.Connection('40.118.160.139', username='sai', password='altimetry')"
   ]
  },
  {
   "cell_type": "markdown",
   "metadata": {},
   "source": [
    "#remove tryChange\n",
    "The data are located in a directory 'altimetry'. In 'atimetry', there is another folder for each glacier. So we can get the list of glaciers this way:\n"
   ]
  },
  {
   "cell_type": "code",
   "execution_count": 4,
   "metadata": {
    "collapsed": false
   },
   "outputs": [
    {
     "data": {
      "text/plain": [
       "['Kahiltna', 'Taku']"
      ]
     },
     "execution_count": 4,
     "metadata": {},
     "output_type": "execute_result"
    }
   ],
   "source": [
    "glacierList = sftp.listdir('altimetry')\n",
    "glacierList"
   ]
  },
  {
   "cell_type": "code",
   "execution_count": 7,
   "metadata": {
    "collapsed": false
   },
   "outputs": [
    {
     "name": "stdout",
     "output_type": "stream",
     "text": [
      "Kahiltna.1994.2008.output.txt\n",
      "Kahiltna.1994.2010.output.txt\n",
      "Kahiltna.1994.2013.output.txt\n",
      "Kahiltna.2008.2010.output.txt\n",
      "Kahiltna.2008.2013.output.txt\n",
      "Kahiltna.2010.2013.output.txt\n",
      "Taku.1993.2014.output.txt\n",
      "Taku.1993F.1999F.output.txt\n",
      "Taku.1993F.2007F.output.txt\n",
      "Taku.1993F.2011F.output.txt\n",
      "Taku.1993F.2012F.output.txt\n",
      "Taku.1999.2014.output.txt\n",
      "Taku.1999F.2000S.output.txt\n",
      "Taku.1999F.2007F.output.txt\n",
      "Taku.1999F.2011F.output.txt\n",
      "Taku.1999F.2012F.output.txt\n",
      "Taku.1999S.1999F.output.txt\n",
      "Taku.1999S.2000S.output.txt\n",
      "Taku.1999S.2001S.output.txt\n",
      "Taku.2000.2014.output.txt\n",
      "Taku.2000S.2001S.output.txt\n",
      "Taku.2001.2014.output.txt\n",
      "Taku.2001S.2001F.output.txt\n",
      "Taku.2001S.2007F.output.txt\n",
      "Taku.2007.2014.output.txt\n",
      "Taku.2007F.2011F.output.txt\n",
      "Taku.2007F.2012F.output.txt\n",
      "Taku.2011.2014.output.txt\n",
      "Taku.2011F.2012F.output.txt\n",
      "Taku.2012.2014.output.txt\n"
     ]
    }
   ],
   "source": [
    "with sftp.cd('altimetry'):\n",
    "     for glacierName in glacierList:\n",
    "        with (sftp.cd(glacierName)):\n",
    "            for fileName in sftp.listdir():\n",
    "                #verify on interpreter the file about to be downloaded\n",
    "                if(fileName.endswith(\".output.txt\")):\n",
    "                    print(fileName)\n",
    "                    sftp.get(fileName)\n",
    "                    #lambFile = udb.ReadLambFile(fileName)\n",
    "\n",
    "    # next, we will use the function \"ReadLambFile\" from the \"UpdateDb.py\" code to read the content of each file. \n",
    "        # see https://github.com/ice2ocean/AlaskaAltimetry/blob/master/Altimetry/UpdateDb.py\n",
    "        # for now, just look at that function to see how it treats the data in the .txt files\n",
    "         "
   ]
  },
  {
   "cell_type": "code",
   "execution_count": 12,
   "metadata": {
    "collapsed": false
   },
   "outputs": [
    {
     "ename": "TypeError",
     "evalue": "Cannot cast ufunc add output from dtype('float64') to dtype('int32') with casting rule 'same_kind'",
     "output_type": "error",
     "traceback": [
      "\u001b[1;31m---------------------------------------------------------------------------\u001b[0m",
      "\u001b[1;31mTypeError\u001b[0m                                 Traceback (most recent call last)",
      "\u001b[1;32m<ipython-input-12-b368ff83017f>\u001b[0m in \u001b[0;36m<module>\u001b[1;34m()\u001b[0m\n\u001b[1;32m----> 1\u001b[1;33m \u001b[0mlambFile\u001b[0m \u001b[1;33m=\u001b[0m \u001b[0mudb\u001b[0m\u001b[1;33m.\u001b[0m\u001b[0mReadLambFile\u001b[0m\u001b[1;33m(\u001b[0m\u001b[1;34m'Taku.2012.2014.output.txt'\u001b[0m\u001b[1;33m)\u001b[0m\u001b[1;33m\u001b[0m\u001b[0m\n\u001b[0m\u001b[0;32m      2\u001b[0m \u001b[0mprint\u001b[0m\u001b[1;33m(\u001b[0m\u001b[0mlambFile\u001b[0m\u001b[1;33m)\u001b[0m\u001b[1;33m\u001b[0m\u001b[0m\n",
      "\u001b[1;32mC:\\Users\\Sai Nimmagadda\\Documents\\Computer Science\\ice2Ocean Lab\\ingestAltimetry\\UpdateDb.py\u001b[0m in \u001b[0;36mReadLambFile\u001b[1;34m(lambfile, as_dict, as_string)\u001b[0m\n\u001b[0;32m     60\u001b[0m \u001b[1;33m\u001b[0m\u001b[0m\n\u001b[0;32m     61\u001b[0m     \u001b[0me\u001b[0m \u001b[1;33m=\u001b[0m \u001b[0me\u001b[0m\u001b[1;33m.\u001b[0m\u001b[0mastype\u001b[0m\u001b[1;33m(\u001b[0m\u001b[0mint\u001b[0m\u001b[1;33m)\u001b[0m\u001b[1;33m\u001b[0m\u001b[0m\n\u001b[1;32m---> 62\u001b[1;33m     \u001b[0me\u001b[0m \u001b[1;33m+=\u001b[0m \u001b[1;33m(\u001b[0m\u001b[0me\u001b[0m\u001b[1;33m[\u001b[0m\u001b[1;36m2\u001b[0m\u001b[1;33m]\u001b[0m\u001b[1;33m-\u001b[0m\u001b[0me\u001b[0m\u001b[1;33m[\u001b[0m\u001b[1;36m1\u001b[0m\u001b[1;33m]\u001b[0m\u001b[1;33m)\u001b[0m\u001b[1;33m/\u001b[0m\u001b[1;36m2\u001b[0m    \u001b[1;31m# DEALING WITH THE FACT THAT LAMB BINNING LABELS THE BOTTOM OF THE BIN AND WE WANT THE CENTER\u001b[0m\u001b[1;33m\u001b[0m\u001b[0m\n\u001b[0m\u001b[0;32m     63\u001b[0m \u001b[1;33m\u001b[0m\u001b[0m\n\u001b[0;32m     64\u001b[0m     \u001b[1;31m#print e\u001b[0m\u001b[1;33m\u001b[0m\u001b[1;33m\u001b[0m\u001b[0m\n",
      "\u001b[1;31mTypeError\u001b[0m: Cannot cast ufunc add output from dtype('float64') to dtype('int32') with casting rule 'same_kind'"
     ]
    }
   ],
   "source": [
    "lambFile = udb.ReadLambFile('Taku.2012.2014.output.txt')\n",
    "print(lambFile)"
   ]
  }
 ],
 "metadata": {
  "kernelspec": {
   "display_name": "Python 3",
   "language": "python",
   "name": "python3"
  },
  "language_info": {
   "codemirror_mode": {
    "name": "ipython",
    "version": 3
   },
   "file_extension": ".py",
   "mimetype": "text/x-python",
   "name": "python",
   "nbconvert_exporter": "python",
   "pygments_lexer": "ipython3",
   "version": "3.4.3"
  }
 },
 "nbformat": 4,
 "nbformat_minor": 0
}
