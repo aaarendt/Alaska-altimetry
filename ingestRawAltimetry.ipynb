{
 "cells": [
  {
   "cell_type": "markdown",
   "metadata": {},
   "source": [
    "### This purpose of this code is to read raw altimetry data from a server in Alaska and then ingest it into the postgres database\n",
    "\n",
    "#### we'll use the Python library http://pysftp.readthedocs.org/en/release_0.2.8/\n",
    "\n",
    "#### A. Arendt, S. Nimmagadda, C. Larsen\n",
    "\n",
    "##### rev. 2015 11 17"
   ]
  },
  {
   "cell_type": "markdown",
   "metadata": {},
   "source": [
    "establish the secure FTP connection:"
   ]
  },
  {
   "cell_type": "code",
   "execution_count": 12,
   "metadata": {
    "collapsed": false
   },
   "outputs": [],
   "source": [
    "import pysftp\n",
    "# I've set up some sample data here. We'll replace this connection with the real one after developing the code\n",
    "sftp = pysftp.Connection('40.118.160.139', username='sai', password='altimetry')"
   ]
  },
  {
   "cell_type": "markdown",
   "metadata": {},
   "source": [
    "The data are located in a directory 'altimetry'. In 'atimetry', there is another folder for each glacier. So we can get the list of glaciers this way:\n"
   ]
  },
  {
   "cell_type": "code",
   "execution_count": 17,
   "metadata": {
    "collapsed": false
   },
   "outputs": [
    {
     "data": {
      "text/plain": [
       "[u'Kahiltna', u'Taku']"
      ]
     },
     "execution_count": 17,
     "metadata": {},
     "output_type": "execute_result"
    }
   ],
   "source": [
    "glacierList = sftp.listdir('altimetry')\n",
    "glacierList"
   ]
  },
  {
   "cell_type": "code",
   "execution_count": 21,
   "metadata": {
    "collapsed": false
   },
   "outputs": [],
   "source": [
    "with sftp.cd('altimetry'):\n",
    "    # here's how to get into each glacier directory. \n",
    "    # Try changing this to loop over the glacier names from \"glacierList\" populated above\n",
    "    sftp.chdir('Kahiltna')\n",
    "    \n",
    "    # we'll need to gather another list of all *.output.txt files. We'll then loop over that list. \n",
    "    \n",
    "        # within that loop, use sftp.get() to actually download a each .txt file\n",
    "    \n",
    "        # next, we will use the function \"ReadLambFile\" from the \"UpdateDb.py\" code to read the content of each file. \n",
    "        # for now, just look at that function to see how it treats the data in the .txt files\n",
    "         "
   ]
  }
 ],
 "metadata": {
  "kernelspec": {
   "display_name": "Python 2",
   "language": "python",
   "name": "python2"
  },
  "language_info": {
   "codemirror_mode": {
    "name": "ipython",
    "version": 2
   },
   "file_extension": ".py",
   "mimetype": "text/x-python",
   "name": "python",
   "nbconvert_exporter": "python",
   "pygments_lexer": "ipython2",
   "version": "2.7.10"
  }
 },
 "nbformat": 4,
 "nbformat_minor": 0
}
