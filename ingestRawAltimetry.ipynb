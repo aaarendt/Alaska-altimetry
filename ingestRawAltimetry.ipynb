{
 "cells": [
  {
   "cell_type": "markdown",
   "metadata": {},
   "source": [
    "### This purpose of this code is to read raw altimetry data from a server in Alaska and then ingest it into the postgres database\n",
    "\n",
    "#### we'll use the Python library http://pysftp.readthedocs.org/en/release_0.2.8/\n",
    "\n",
    "#### A. Arendt, S. Nimmagadda, C. Larsen\n",
    "\n",
    "##### rev. 2015 11 17: initial creation\n",
    "##### 2015 11 29: stepping through ReadLambFile from Evan's UpdateDb.py; removing str/dict distinction; trying in Pandas instead"
   ]
  },
  {
   "cell_type": "markdown",
   "metadata": {},
   "source": [
    "establish the secure FTP connection:"
   ]
  },
  {
   "cell_type": "code",
   "execution_count": 16,
   "metadata": {
    "collapsed": false
   },
   "outputs": [],
   "source": [
    "# so we can display plots in the notebook\n",
    "\n",
    "%matplotlib inline \n",
    "import pandas as pd\n",
    "import pysftp\n",
    "import UpdateDb as udb\n",
    "import Altimetry as alt\n",
    "\n",
    "# I've set up some sample data here. We'll replace this connection with the real one after developing the code\n",
    "sftp = pysftp.Connection('40.118.160.139', username='sai', password='altimetry')"
   ]
  },
  {
   "cell_type": "code",
   "execution_count": 3,
   "metadata": {
    "collapsed": false
   },
   "outputs": [
    {
     "data": {
      "text/plain": [
       "['Kahiltna', 'Taku']"
      ]
     },
     "execution_count": 3,
     "metadata": {},
     "output_type": "execute_result"
    }
   ],
   "source": [
    "glacierList = sftp.listdir('altimetry')\n",
    "glacierList"
   ]
  },
  {
   "cell_type": "code",
   "execution_count": null,
   "metadata": {
    "collapsed": true
   },
   "outputs": [],
   "source": [
    "with sftp.cd('altimetry'):\n",
    "     for glacierName in glacierList:\n",
    "        with (sftp.cd(glacierName)):\n",
    "            for fileName in sftp.listdir():\n",
    "                #verify on interpreter the file about to be downloaded\n",
    "                if(fileName.endswith(\".output.txt\")):\n",
    "                    print(fileName)\n",
    "                    sftp.get(fileName)"
   ]
  },
  {
   "cell_type": "code",
   "execution_count": 8,
   "metadata": {
    "collapsed": false
   },
   "outputs": [],
   "source": [
    "# for now: hard code the name of the test input file\n",
    "\n",
    "lambfile = 'Taku.2012.2014.output.txt'\n",
    "\n",
    "glacierInfo = pd.read_csv(lambfile,sep='\\t', header=None, names = ['Year1','JDay1','Year2','JDay2',\n",
    "                                                          'VolModel','Vol25Diff','Vol75Diff',\n",
    "                                                          'BalModel', 'Bal25Diff', 'Bal75Diff'], skiprows=1, nrows=1)\n",
    "\n",
    "glacierData = pd.read_csv(lambfile,sep='\\t', header=None, names = ['E','DZ','DZ25','DZ75',\n",
    "                                                          'AAD','MassChange','MassBal','NumData'], skiprows=3)"
   ]
  },
  {
   "cell_type": "code",
   "execution_count": 9,
   "metadata": {
    "collapsed": false
   },
   "outputs": [
    {
     "data": {
      "text/plain": [
       "<matplotlib.axes._subplots.AxesSubplot at 0x5309ef0>"
      ]
     },
     "execution_count": 9,
     "metadata": {},
     "output_type": "execute_result"
    },
    {
     "data": {
      "image/png": "[encoded data removed]",
      "text/plain": [
       "<matplotlib.figure.Figure at 0x606a128>"
      ]
     },
     "metadata": {},
     "output_type": "display_data"
    }
   ],
   "source": [
    "# now we can take advantage of the simple plotting functions in Pandas\n",
    "glacierData['MassBal'].plot()"
   ]
  },
  {
   "cell_type": "code",
   "execution_count": 11,
   "metadata": {
    "collapsed": false
   },
   "outputs": [
    {
     "data": {
      "text/plain": [
       "array([   0,   30,   60,   90,  120,  150,  180,  210,  240,  270,  300,\n",
       "        330,  360,  390,  420,  450,  480,  510,  540,  570,  600,  630,\n",
       "        660,  690,  720,  750,  780,  810,  840,  870,  900,  930,  960,\n",
       "        990, 1020, 1050, 1080, 1110, 1140, 1170, 1200, 1230, 1260, 1290,\n",
       "       1320, 1350, 1380, 1410, 1440, 1470, 1500, 1530, 1560, 1590, 1620,\n",
       "       1650, 1680, 1710, 1740, 1770, 1800, 1830], dtype=int64)"
      ]
     },
     "execution_count": 11,
     "metadata": {},
     "output_type": "execute_result"
    }
   ],
   "source": [
    "glacierData['E'].as_matrix()"
   ]
  },
  {
   "cell_type": "code",
   "execution_count": null,
   "metadata": {
    "collapsed": true
   },
   "outputs": [],
   "source": [
    "#loop over each column in the dataframe and print the contents\n",
    "for columnName in glacierData:\n",
    "    print(columnName)\n",
    "    print(glacierData[columnName].as_matrix())"
   ]
  },
  {
   "cell_type": "code",
   "execution_count": null,
   "metadata": {
    "collapsed": true
   },
   "outputs": [],
   "source": [
    "from sqlalchemy import create_engine\n",
    "from base64 import b64decode as readpassword\n",
    "\n",
    "user = r'sai'\n",
    "word = r'test'\n",
    "\n",
    "engine = create_engine('postgresql://' + user + ':' + word + '@localhost:5432/sandbox')\n",
    "print(engine)\n",
    "\n",
    "# to send a Pandas dataframe directly to postgreSQL:\n",
    "# df.to_sql(\"tableName\", engine)\n",
    "\n",
    "# to issue a standard SQL command:\n",
    "# engine.execute(\"ALTER TABLE gulkpoints ADD COLUMN gid SERIAL;\")\n",
    "\n",
    "\n"
   ]
  },
  {
   "cell_type": "code",
   "execution_count": 1,
   "metadata": {
    "collapsed": false
   },
   "outputs": [
    {
     "name": "stdout",
     "output_type": "stream",
     "text": [
      "Host is localhost \n",
      "User is arendta \n",
      "DBname is sandbox \n",
      "\n"
     ]
    }
   ],
   "source": [
    "import Altimetry as alt\n",
    "connection,cursor = alt.ConnectDb()\n",
    "print \"Host is %s \" % alt.ConnectDb(get_host=True)\n",
    "print \"User is %s \" % alt.ConnectDb(get_user=True)\n",
    "print \"DBname is %s \\n\" % alt.ConnectDb(get_dbname=True)"
   ]
  },
  {
   "cell_type": "code",
   "execution_count": 3,
   "metadata": {
    "collapsed": false
   },
   "outputs": [
    {
     "name": "stdout",
     "output_type": "stream",
     "text": [
      "SELECT  lamb.lambid,lamb.ergiid,lamb.date1,lamb.date2,lamb.interval,lamb.volmodel,lamb.vol25diff,lamb.vol75diff,lamb.balmodel,lamb.bal25diff,lamb.bal75diff,ergi_mat_view.surge,ergi_mat_view.gltype,ergi_mat_view.name,ergi_mat_view.region,lamb.e,lamb.dz,lamb.dz25,lamb.dz75,lamb.aad,lamb.masschange,lamb.massbal,lamb.numdata,ergi_mat_view.max::real,ergi_mat_view.min::real,ergi_mat_view.continentality,ergi_mat_view.area::double precision FROM lamb LEFT JOIN ergi_mat_view ON lamb.ergiid=ergi_mat_view.ergiid WHERE ((interval % 365) > 335 OR (interval % 365) < 30) AND ROUND(interval/365.) >= 0 AND ergi_mat_view.name='Taku Glacier' ORDER BY ergi_mat_view.name,lamb.date1,lamb.interval;\n"
     ]
    },
    {
     "ename": "UnboundLocalError",
     "evalue": "local variable 's' referenced before assignment",
     "output_type": "error",
     "traceback": [
      "\u001b[1;31m---------------------------------------------------------------------------\u001b[0m",
      "\u001b[1;31mUnboundLocalError\u001b[0m                         Traceback (most recent call last)",
      "\u001b[1;32m<ipython-input-3-646fa2cd8644>\u001b[0m in \u001b[0;36m<module>\u001b[1;34m()\u001b[0m\n\u001b[1;32m----> 1\u001b[1;33m \u001b[0mtaku\u001b[0m \u001b[1;33m=\u001b[0m \u001b[0malt\u001b[0m\u001b[1;33m.\u001b[0m\u001b[0mGetLambData\u001b[0m\u001b[1;33m(\u001b[0m\u001b[0mremoverepeats\u001b[0m\u001b[1;33m=\u001b[0m\u001b[0mTrue\u001b[0m\u001b[1;33m,\u001b[0m\u001b[0mby_column\u001b[0m\u001b[1;33m=\u001b[0m\u001b[0mFalse\u001b[0m\u001b[1;33m,\u001b[0m\u001b[0mas_object\u001b[0m\u001b[1;33m=\u001b[0m\u001b[0mFalse\u001b[0m\u001b[1;33m,\u001b[0m \u001b[0mverbose\u001b[0m\u001b[1;33m=\u001b[0m\u001b[0mTrue\u001b[0m\u001b[1;33m,\u001b[0m\u001b[0muserwhere\u001b[0m\u001b[1;33m=\u001b[0m\u001b[1;34m\"ergi_mat_view.name='Taku Glacier'\"\u001b[0m\u001b[1;33m)\u001b[0m\u001b[1;33m\u001b[0m\u001b[0m\n\u001b[0m",
      "\u001b[1;32m/home/arendta/src/ingestAltimetry/Altimetry.pyc\u001b[0m in \u001b[0;36mGetLambData\u001b[1;34m(removerepeats, days_from_year, interval_min, interval_max, earliest_date, latest_date, userwhere, verbose, orderby, longest_interval, get_geom, by_column, as_object, generalize, results, density, density_err, acrossgl_err, get_hypsometry, get_glimsid)\u001b[0m\n\u001b[0;32m    452\u001b[0m \u001b[1;33m\u001b[0m\u001b[0m\n\u001b[0;32m    453\u001b[0m     \u001b[1;31m#IF NO DATA WAS RETURNED, END AND RETURNED NONE\u001b[0m\u001b[1;33m\u001b[0m\u001b[1;33m\u001b[0m\u001b[0m\n\u001b[1;32m--> 454\u001b[1;33m     \u001b[1;32mif\u001b[0m \u001b[0mtype\u001b[0m\u001b[1;33m(\u001b[0m\u001b[0ms\u001b[0m\u001b[1;33m)\u001b[0m\u001b[1;33m==\u001b[0m\u001b[0mNoneType\u001b[0m\u001b[1;33m:\u001b[0m \u001b[1;32mreturn\u001b[0m \u001b[0mNone\u001b[0m\u001b[1;33m\u001b[0m\u001b[0m\n\u001b[0m\u001b[0;32m    455\u001b[0m \u001b[1;33m\u001b[0m\u001b[0m\n\u001b[0;32m    456\u001b[0m     \u001b[1;31m#REMOVING REPEATS IF THAT OPTION WAS SELECTED\u001b[0m\u001b[1;33m\u001b[0m\u001b[1;33m\u001b[0m\u001b[0m\n",
      "\u001b[1;31mUnboundLocalError\u001b[0m: local variable 's' referenced before assignment"
     ]
    }
   ],
   "source": [
    "taku = alt.GetLambData(removerepeats=True,by_column=False,as_object=False, verbose=True,userwhere=\"ergi_mat_view.name='Taku Glacier'\") "
   ]
  }
 ],
 "metadata": {
  "kernelspec": {
   "display_name": "Python 2",
   "language": "python",
   "name": "python2"
  },
  "language_info": {
   "codemirror_mode": {
    "name": "ipython",
    "version": 2
   },
   "file_extension": ".py",
   "mimetype": "text/x-python",
   "name": "python",
   "nbconvert_exporter": "python",
   "pygments_lexer": "ipython2",
   "version": "2.7.10"
  }
 },
 "nbformat": 4,
 "nbformat_minor": 0
}
