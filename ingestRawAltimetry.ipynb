{
 "cells": [
  {
   "cell_type": "markdown",
   "metadata": {},
   "source": [
    "### This purpose of this code is to read raw altimetry data from a server in Alaska and then ingest it into the postgres database\n",
    "\n",
    "#### we'll use the Python library http://pysftp.readthedocs.org/en/release_0.2.8/\n",
    "\n",
    "#### A. Arendt, S. Nimmagadda, C. Larsen\n",
    "\n",
    "##### rev. 2015 11 17: initial creation\n",
    "##### 2015 11 29: stepping through ReadLambFile from Evan's UpdateDb.py; removing str/dict distinction; trying in Pandas instead"
   ]
  },
  {
   "cell_type": "markdown",
   "metadata": {},
   "source": [
    "establish the secure FTP connection:"
   ]
  },
  {
   "cell_type": "code",
   "execution_count": 1,
   "metadata": {
    "collapsed": false
   },
   "outputs": [],
   "source": [
    "%matplotlib inline \n",
    "import pandas as pd\n",
    "import pysftp\n",
    "import Altimetry as alt\n",
    "import UpdateDb as udb\n",
    "from base64 import b64decode as readpassword\n",
    "from sqlalchemy import create_engine"
   ]
  },
  {
   "cell_type": "code",
   "execution_count": 10,
   "metadata": {
    "collapsed": false
   },
   "outputs": [],
   "source": [
    "user = 'sai'\n",
    "word = 'dGVzdA=='\n",
    "\n",
    "engine = create_engine('postgresql://' + user + ':' + readpassword(word) + '@localhost:5432/sandbox')"
   ]
  },
  {
   "cell_type": "code",
   "execution_count": 5,
   "metadata": {
    "collapsed": false
   },
   "outputs": [
    {
     "data": {
      "text/plain": [
       "<sqlalchemy.engine.result.ResultProxy at 0x7f7186371650>"
      ]
     },
     "execution_count": 5,
     "metadata": {},
     "output_type": "execute_result"
    }
   ],
   "source": [
    "# just do this once\n",
    "engine.execute(\"CREATE TABLE lambtest (gid serial PRIMARY KEY, glid smallint, date1 date, date2 date, interval smallint, volmodel real, vol25diff real,vol75diff real, balmodel real, bal25diff real,bal75diff real,e integer[],dz real[],dz25 real[],dz75 real[],aad real[],masschange real[],massbal real[],numdata integer[]);\")"
   ]
  },
  {
   "cell_type": "code",
   "execution_count": 6,
   "metadata": {
    "collapsed": false
   },
   "outputs": [],
   "source": [
    "host = readpassword('YmFpcmQuZ3BzLmFsYXNrYS5lZHU=')\n",
    "user = readpassword('bGFzZXI=')\n",
    "pw = readpassword('MjYpKSlrbQ==')\n",
    "sftp = pysftp.Connection(host, username=user, password=pw)\n",
    "\n",
    "with sftp.cd('/home/laser/analysis/'):\n",
    "    glacierList = sftp.listdir()\n",
    "    for glacierName in glacierList:\n",
    "        print(glacierName)\n",
    "        if sftp.exists(glacierName + '/results'):\n",
    "            with (sftp.cd(glacierName + '/results/')):\n",
    "                for fileName in sftp.listdir():\n",
    "                    if fileName.endswith(\".output.txt\"):\n",
    "                        sftp.get(fileName)\n",
    "                        sql = udb.import_lamb_file_to_db(fileName,'lambtest')\n",
    "                        engine.execute(sql)"
   ]
  },
  {
   "cell_type": "code",
   "execution_count": null,
   "metadata": {
    "collapsed": false
   },
   "outputs": [],
   "source": [
    "import Altimetry as alt\n",
    "%matplotlib inline\n",
    "from matplotlib.pyplot import *\n",
    "import matplotlib.pyplot as plt\n",
    "surveyeddata = alt.GetLambData(verbose=False,longest_interval=True,interval_max=30,interval_min=5,by_column=True,\n",
    "                           as_object=True)\n",
    "surveyeddata.fix_terminus()\n",
    "surveyeddata.normalize_elevation()\n",
    "surveyeddata.calc_dz_stats()\n",
    "\n",
    "#Now to partition the dataset as done in Larsen etal by glacier type.\n",
    "#We excluding surgers and outlier glaciers because we don't want those glaciers to affect \n",
    "#   mean profiles used for extrapolation.\n",
    "types = [\"gltype=0\",\"gltype=1\",\"gltype=2\"]\n",
    "lamb,userwheres,notused,whereswo,notswo = alt.partition_dataset(types,applytoall=[\"surge='f'\",\"name NOT IN ('Columbia Glacier','West Yakutat Glacier','East Yakutat Glacier')\"])\n",
    "results = alt.extrapolate('testing',lamb,whereswo,insert_surveyed_data=surveyeddata,keep_postgres_tbls=False) "
   ]
  },
  {
   "cell_type": "code",
   "execution_count": null,
   "metadata": {
    "collapsed": false
   },
   "outputs": [],
   "source": [
    "import numpy as N\n",
    "#Plotting a pie chart of the total amount of mass lost from each glacier type.\n",
    "typenames = {'0':'Land','1':'Tidewater','2':'Lake'}\n",
    "labels = [typenames[i] for i in results['bytype']['gltype'].astype(str)]\n",
    "figure(figsize=(3,3))\n",
    "pi = pie(N.abs(results['bytype']['totalgt']),labels=labels)"
   ]
  },
  {
   "cell_type": "code",
   "execution_count": null,
   "metadata": {
    "collapsed": false
   },
   "outputs": [],
   "source": [
    "results['bytype']['totalgt'].sum()"
   ]
  }
 ],
 "metadata": {
  "kernelspec": {
   "display_name": "Python 2",
   "language": "python",
   "name": "python2"
  },
  "language_info": {
   "codemirror_mode": {
    "name": "ipython",
    "version": 2
   },
   "file_extension": ".py",
   "mimetype": "text/x-python",
   "name": "python",
   "nbconvert_exporter": "python",
   "pygments_lexer": "ipython2",
   "version": "2.7.10"
  }
 },
 "nbformat": 4,
 "nbformat_minor": 0
}
