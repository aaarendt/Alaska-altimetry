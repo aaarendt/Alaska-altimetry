{
 "cells": [
  {
   "cell_type": "markdown",
   "metadata": {},
   "source": [
    "## Altimetry Module\n",
    "### Introduction\n",
    "\n",
    "Here we will show you the four most important functions in the Altimetry module.  We will start with simple low level functions and move to higher and more helpful ones.  We will end with some examples of how to use these functions.  \n",
    "\n",
    "### Altimetry.Altimetry.ConnectDb(**kwargs)<a name='ConnectDb'></a>\n",
    "#### Purpose:\n",
    " Connect to a postgres database. If the default is set appropriately just execute with no arguments. eg \n",
    " connection,cursor = ConnectDb()\n",
    "  \n",
    "#### Keyword Arguments:\n",
    "<dl>\n",
    "<dt>server</dt><dd>The name of the server must match a dictionary name in __init__.py</dd>\n",
    "<dt>get_host</dt><dd>Get the default host name</dd>\n",
    "<dt>get_user</dt><dd>Get the default user name</dd>\n",
    "<dt>get_dbname</dt><dd>Get the default database name</dd>\n",
    "</dl>\n",
    "\n",
    "#### Returns: \n",
    "A list including psycopg2 connection and cursor to the database. \n",
    "\n",
    "#### Example:"
   ]
  },
  {
   "cell_type": "code",
   "execution_count": null,
   "metadata": {},
   "outputs": [],
   "source": [
    "#First just checking the default host information stored in the __init__.py\n",
    "connection,cursor = alt.ConnectDb(connectionString)\n",
    "print \"Host is %s \" % alt.ConnectDb(connectionString,get_host=True)\n",
    "print \"User is %s \" % alt.ConnectDb(connectionString,get_user=True)\n",
    "print \"DBname is %s \\n\" % alt.ConnectDb(connectionString,get_dbname=True)\n",
    "\n",
    "#Now, lets list all of the glaciers bigger than 1000 sq. km. \n",
    "cursor.execute(\"SELECT name,area from ergi_mat_view WHERE area>1000 ORDER BY area DESC;\")\n",
    "\n",
    "#Once the select statement is run the cursor one can fetch data line by line or all of the data together.\n",
    "#Here we are fetching all of the data and looping through to print the area.\n",
    "for name, area in cursor.fetchall(): \n",
    "     print \"{glacier} has an area of {area:.0f} sq. km.\".format(glacier = name,area=area)\n",
    "\n",
    "#Close the cursor once you are done.\n",
    "cursor.close()"
   ]
  },
  {
   "cell_type": "code",
   "execution_count": null,
   "metadata": {},
   "outputs": [],
   "source": []
  }
 ],
 "metadata": {
  "kernelspec": {
   "display_name": "Python 3",
   "language": "python",
   "name": "python3"
  },
  "language_info": {
   "codemirror_mode": {
    "name": "ipython",
    "version": 3
   },
   "file_extension": ".py",
   "mimetype": "text/x-python",
   "name": "python",
   "nbconvert_exporter": "python",
   "pygments_lexer": "ipython3",
   "version": "3.7.3"
  }
 },
 "nbformat": 4,
 "nbformat_minor": 4
}
